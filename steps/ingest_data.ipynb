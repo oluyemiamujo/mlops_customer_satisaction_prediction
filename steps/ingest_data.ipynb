{
 "cells": [
  {
   "cell_type": "code",
   "execution_count": 16,
   "id": "39a394a5-9c8d-4fe9-ab5b-daded26b5230",
   "metadata": {},
   "outputs": [],
   "source": [
    "import logging\n",
    "import pandas as pd\n",
    "from zenml import step\n",
    "\n",
    "class IngestData:\n",
    "    \"\"\"\n",
    "        Ingesting the data from the data path\n",
    "    \"\"\"\n",
    "    def __init__(self, data_path: str ):\n",
    "        \"\"\"\n",
    "        Args:\n",
    "                data_path: path to the data\n",
    "        \"\"\"\n",
    "        self.data_path = data_path\n",
    "\n",
    "    def get_data(self):\n",
    "        logging.info(f\"Ingest data from {self.data_path}\")\n",
    "        return pd.read_csv(self.data_path)\n",
    "\n",
    "\n",
    "@step\n",
    "def ingest_data(data_path: str) -> pd.DataFrame:\n",
    "    \"\"\"\n",
    "    Ingesting the data from the data path.\n",
    "        \n",
    "    Args:\n",
    "            data_path: path to the data\n",
    "    Return:\n",
    "    pd.DataFrame: the ingested data.\n",
    "    \n",
    "    \"\"\"\n",
    "    try:\n",
    "        ingest_data = IngestData(data_path)\n",
    "        df = ingest_data.get_data()\n",
    "        return df\n",
    "\n",
    "    except Exception as e:\n",
    "        logging.error(f\"Error while ingesting data: {e}\")\n",
    "        raise e"
   ]
  },
  {
   "cell_type": "code",
   "execution_count": null,
   "id": "573fe79c-eb95-4371-bf32-e3d18a0bd703",
   "metadata": {},
   "outputs": [],
   "source": []
  }
 ],
 "metadata": {
  "kernelspec": {
   "display_name": "Python 3 (ipykernel)",
   "language": "python",
   "name": "python3"
  },
  "language_info": {
   "codemirror_mode": {
    "name": "ipython",
    "version": 3
   },
   "file_extension": ".py",
   "mimetype": "text/x-python",
   "name": "python",
   "nbconvert_exporter": "python",
   "pygments_lexer": "ipython3",
   "version": "3.10.10"
  }
 },
 "nbformat": 4,
 "nbformat_minor": 5
}
